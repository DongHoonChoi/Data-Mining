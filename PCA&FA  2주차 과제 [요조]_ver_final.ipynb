{
 "cells": [
  {
   "cell_type": "code",
   "execution_count": null,
   "metadata": {},
   "outputs": [],
   "source": [
    "\n",
    "\n",
    "import pandas as pd \n",
    "import numpy as np\n",
    "import seaborn as sns\n",
    "\n",
    "from sklearn.decomposition import PCA\n",
    "\n",
    "# 필요한 패키지/모듈 가져오기\n",
    "import matplotlib as mpl\n",
    "import matplotlib.pyplot as plt\n",
    "import matplotlib.font_manager as fm\n",
    "%matplotlib inline\n",
    "\n",
    "from factor_analyzer import FactorAnalyzer\n",
    "\n"
   ]
  },
  {
   "cell_type": "code",
   "execution_count": null,
   "metadata": {
    "scrolled": true
   },
   "outputs": [],
   "source": [
    "data = pd.read_csv('divorce_data.csv', sep =';')"
   ]
  },
  {
   "cell_type": "code",
   "execution_count": null,
   "metadata": {
    "scrolled": true
   },
   "outputs": [],
   "source": [
    "data.head()"
   ]
  },
  {
   "cell_type": "code",
   "execution_count": null,
   "metadata": {},
   "outputs": [],
   "source": [
    "data = data.set_index('Divorce')"
   ]
  },
  {
   "cell_type": "code",
   "execution_count": null,
   "metadata": {},
   "outputs": [],
   "source": [
    "data.info()"
   ]
  },
  {
   "cell_type": "code",
   "execution_count": null,
   "metadata": {},
   "outputs": [],
   "source": [
    "# 열별로 scaling (z-standardization)\n",
    "from sklearn.preprocessing import StandardScaler\n",
    "data_scale = pd.DataFrame(StandardScaler().fit_transform(data), columns=data.columns, index = data.index)"
   ]
  },
  {
   "cell_type": "code",
   "execution_count": null,
   "metadata": {},
   "outputs": [],
   "source": [
    "data_scale.head()"
   ]
  },
  {
   "cell_type": "code",
   "execution_count": null,
   "metadata": {},
   "outputs": [],
   "source": [
    "data_scale.cov()"
   ]
  },
  {
   "cell_type": "code",
   "execution_count": null,
   "metadata": {
    "scrolled": true
   },
   "outputs": [],
   "source": [
    "data_scale.corr()"
   ]
  },
  {
   "cell_type": "markdown",
   "metadata": {},
   "source": [
    "# Principal Component Analysis"
   ]
  },
  {
   "cell_type": "code",
   "execution_count": null,
   "metadata": {},
   "outputs": [],
   "source": [
    "# PCA 진행\n",
    "pca = PCA(random_state=20210323)\n",
    "X_p = pca.fit_transform(data_scale)\n"
   ]
  },
  {
   "cell_type": "code",
   "execution_count": null,
   "metadata": {},
   "outputs": [],
   "source": [
    "#Eigen Value\n",
    "ev,v=np.linalg.eig(data.corr())\n",
    "ev"
   ]
  },
  {
   "cell_type": "code",
   "execution_count": null,
   "metadata": {},
   "outputs": [],
   "source": [
    "#시각화\n",
    "plt.scatter(range(1, data_scale.shape[1]+1),ev)\n",
    "plt.plot(range(1,data_scale.shape[1]+1),ev)\n",
    "plt.title('Scree Plot')\n",
    "plt.xlabel('Principal Components')\n",
    "plt.ylabel('Eigenvalue')\n",
    "plt.grid()\n",
    "plt.show()"
   ]
  },
  {
   "cell_type": "code",
   "execution_count": null,
   "metadata": {},
   "outputs": [],
   "source": [
    "plt.scatter(range(1, data_scale.shape[1]+1),ev)\n",
    "plt.plot(range(1, data_scale.shape[1]+1),ev)\n",
    "plt.axis([0,5,0,10])\n",
    "plt.yticks([0,0.5,1,5,10])\n",
    "plt.title('Scree Plot')\n",
    "plt.xlabel('Principal Components')\n",
    "plt.ylabel('Eigenvalue')\n",
    "plt.show()"
   ]
  },
  {
   "cell_type": "code",
   "execution_count": null,
   "metadata": {},
   "outputs": [],
   "source": [
    "each_variance_ratio = pca.explained_variance_ratio_\n",
    "each_variance_ratio #각 PC별 분산 설명 비율율"
   ]
  },
  {
   "cell_type": "code",
   "execution_count": null,
   "metadata": {
    "scrolled": true
   },
   "outputs": [],
   "source": [
    "#고유값을 기준으로 설명 가능한 분산 (누적)\n",
    "cumsum = np.cumsum(pca.explained_variance_ratio_)\n",
    "\n",
    "pd.Series(np.cumsum(pca.explained_variance_ratio_)) "
   ]
  },
  {
   "cell_type": "code",
   "execution_count": null,
   "metadata": {},
   "outputs": [],
   "source": [
    "# 시각화 2\n",
    "plt.figure(figsize=(30,10))\n",
    "percent_variance = np.round(pca.explained_variance_ratio_* 100, decimals =2)\n",
    "columns = []\n",
    "for i in range(len(percent_variance)):\n",
    "    columns.append(f'PC{i+1}')\n",
    "\n",
    "ax = plt.bar(x = range(len(percent_variance)), height=percent_variance, tick_label=columns)\n",
    "plt.ylabel('Percentage of Variance Explained (%)')\n",
    "plt.xlabel('Principal Component')\n",
    "plt.title('Variance Explained')\n",
    "plt.show()"
   ]
  },
  {
   "cell_type": "code",
   "execution_count": null,
   "metadata": {},
   "outputs": [],
   "source": [
    "pd.DataFrame(pca.components_[:,:4], \n",
    "             columns = ['PC1','PC2','PC3','PC4'], \n",
    "             index=data.columns)"
   ]
  },
  {
   "cell_type": "code",
   "execution_count": null,
   "metadata": {},
   "outputs": [],
   "source": [
    "X_pp = pd.DataFrame(X_p[:,:4], \n",
    "                    columns = ['PC1','PC2','PC3','PC4'], \n",
    "                    index = data.index)\n",
    "X_pp #PCA 이후 만들어진 data (PC1~ PC4로 총 4개 변수로 축소)"
   ]
  },
  {
   "cell_type": "code",
   "execution_count": null,
   "metadata": {},
   "outputs": [],
   "source": [
    "#시각화3\n",
    "pca_result = pd.DataFrame(pca.components_[:,:4], \n",
    "             columns = ['PC1','PC2','PC3','PC4'], \n",
    "             index=data.columns)\n",
    "plt.figure(figsize=(6,10))\n",
    "sns.heatmap(pca_result, cmap=\"Blues\", annot=True, fmt='.2f') #소수 둘째자리까지"
   ]
  },
  {
   "cell_type": "code",
   "execution_count": null,
   "metadata": {},
   "outputs": [],
   "source": [
    "# PCA 진행\n",
    "pca = PCA(random_state=20210323)\n",
    "X_p = pca.fit_transform(data)"
   ]
  },
  {
   "cell_type": "code",
   "execution_count": null,
   "metadata": {},
   "outputs": [],
   "source": [
    "X_pp = pd.DataFrame(X_p[:,:4], \n",
    "                    columns = ['PC1','PC2','PC3','PC4'], \n",
    "                    index = data.index)\n",
    "X_pp #PCA 이후 만들어진 data (PC1~ PC4로 총 4개 변수로 축소)"
   ]
  },
  {
   "cell_type": "code",
   "execution_count": null,
   "metadata": {},
   "outputs": [],
   "source": [
    "# PC1 x PC2 \n",
    "sns.scatterplot(data=X_pp, x='PC1',y='PC2',hue=X_pp.index)"
   ]
  },
  {
   "cell_type": "code",
   "execution_count": null,
   "metadata": {
    "scrolled": true
   },
   "outputs": [],
   "source": [
    "# PC1 x PC3\n",
    "sns.scatterplot(data=X_pp, x='PC1',y='PC3',hue=X_pp.index)"
   ]
  },
  {
   "cell_type": "code",
   "execution_count": null,
   "metadata": {},
   "outputs": [],
   "source": [
    "# PC1 x PC4\n",
    "sns.scatterplot(data=X_pp, x='PC1',y='PC4',hue=X_pp.index)"
   ]
  },
  {
   "cell_type": "code",
   "execution_count": null,
   "metadata": {},
   "outputs": [],
   "source": [
    "# PC2 x PC3 \n",
    "sns.scatterplot(data=X_pp, x='PC2',y='PC3',hue=X_pp.index)"
   ]
  },
  {
   "cell_type": "code",
   "execution_count": null,
   "metadata": {},
   "outputs": [],
   "source": [
    "# PC2 x PC4 \n",
    "sns.scatterplot(data=X_pp, x='PC2',y='PC4',hue=X_pp.index)"
   ]
  },
  {
   "cell_type": "code",
   "execution_count": null,
   "metadata": {},
   "outputs": [],
   "source": [
    "# PC3 x PC4 \n",
    "sns.scatterplot(data=X_pp, x='PC3',y='PC4',hue=X_pp.index)"
   ]
  },
  {
   "cell_type": "code",
   "execution_count": null,
   "metadata": {},
   "outputs": [],
   "source": [
    "X_PC1 = X_pp[['PC1']]\n",
    "X_PC2 = X_pp[['PC2']]\n",
    "X_PC3= X_pp[['PC3']]\n",
    "X_PC4 = X_pp[['PC4']]"
   ]
  },
  {
   "cell_type": "code",
   "execution_count": null,
   "metadata": {},
   "outputs": [],
   "source": [
    "X_PC1.groupby('Divorce').describe()"
   ]
  },
  {
   "cell_type": "code",
   "execution_count": null,
   "metadata": {},
   "outputs": [],
   "source": [
    "X_PC1.groupby('Divorce').describe()"
   ]
  },
  {
   "cell_type": "code",
   "execution_count": null,
   "metadata": {},
   "outputs": [],
   "source": [
    "X_PC1.groupby('Divorce').describe()"
   ]
  },
  {
   "cell_type": "code",
   "execution_count": null,
   "metadata": {},
   "outputs": [],
   "source": [
    "X_PC1.groupby('Divorce').describe()"
   ]
  },
  {
   "cell_type": "markdown",
   "metadata": {},
   "source": [
    "# Factor Analysis"
   ]
  },
  {
   "cell_type": "code",
   "execution_count": null,
   "metadata": {},
   "outputs": [],
   "source": [
    "# Bartlett Test\n",
    "\n",
    "from factor_analyzer.factor_analyzer import calculate_bartlett_sphericity\n",
    "chi_square_value, p_value = calculate_bartlett_sphericity(data_scale)\n",
    "chi_square_value, p_value # p-value < 0.05 --> 귀무가설 기각"
   ]
  },
  {
   "cell_type": "code",
   "execution_count": null,
   "metadata": {
    "scrolled": true
   },
   "outputs": [],
   "source": [
    "# KMO Test (Kaiser-Meyer-Olkin Test)\n",
    "\n",
    "\n",
    "from factor_analyzer.factor_analyzer import calculate_kmo\n",
    "kmo_all, kmo_model =calculate_kmo(data_scale)\n",
    "kmo_model # 0.8 이상이므로 꽤 좋음"
   ]
  },
  {
   "cell_type": "markdown",
   "metadata": {},
   "source": [
    "## 요인 수 선택"
   ]
  },
  {
   "cell_type": "code",
   "execution_count": null,
   "metadata": {},
   "outputs": [],
   "source": [
    "# 개수 선택법 1) Eigenvalue\n",
    "fac = FactorAnalyzer(n_factors=54,rotation=None)\n",
    "fac.fit(data_scale)\n",
    "ev, v = fac.get_eigenvalues()\n",
    "ev"
   ]
  },
  {
   "cell_type": "code",
   "execution_count": null,
   "metadata": {},
   "outputs": [],
   "source": [
    "plt.scatter(range(1, data_scale.shape[1]+1),ev)\n",
    "plt.plot(range(1, data_scale.shape[1]+1),ev)\n",
    "\n",
    "plt.xlabel('Factor Number')\n",
    "plt.ylabel('Eigenvalue')\n",
    "plt.title('Scree Plot')\n",
    "plt.show()"
   ]
  },
  {
   "cell_type": "code",
   "execution_count": null,
   "metadata": {},
   "outputs": [],
   "source": [
    "plt.scatter(range(1, data_scale.shape[1]+1),ev)\n",
    "plt.plot(range(1, data_scale.shape[1]+1),ev)\n",
    "plt.axis([0,5,0,10])\n",
    "plt.yticks([0,0.5,1,5,10])\n",
    "plt.xlabel('Factor Number')\n",
    "plt.ylabel('Eigenvalue')\n",
    "plt.title('Scree Plot')\n",
    "plt.show()"
   ]
  },
  {
   "cell_type": "markdown",
   "metadata": {},
   "source": [
    "# FA Rotation 시작"
   ]
  },
  {
   "cell_type": "markdown",
   "metadata": {},
   "source": [
    "## 1) FA Rotation: Varimax"
   ]
  },
  {
   "cell_type": "code",
   "execution_count": null,
   "metadata": {},
   "outputs": [],
   "source": [
    "# factor 4개로 선택\n",
    "fa = FactorAnalyzer(n_factors=4, rotation = \"varimax\")\n",
    "fa.fit(data_scale)"
   ]
  },
  {
   "cell_type": "code",
   "execution_count": null,
   "metadata": {},
   "outputs": [],
   "source": [
    "# FA: Factor Loadings\n",
    "fa_result_loading = pd.DataFrame(fa.loadings_, \n",
    "                                 columns = ['Factor1', 'Factor2', 'Factor3', 'Factor4'],\n",
    "                                 index=data_scale.columns)\n",
    "fa_result_loading"
   ]
  },
  {
   "cell_type": "code",
   "execution_count": null,
   "metadata": {},
   "outputs": [],
   "source": [
    "# Varimax로 한 Communality\n",
    "commu_vari = pd.DataFrame(fa.get_communalities())\n",
    "commu_vari.columns=['공통성']"
   ]
  },
  {
   "cell_type": "code",
   "execution_count": null,
   "metadata": {},
   "outputs": [],
   "source": [
    "# 시각화\n",
    "plt.figure(figsize=(6,12))\n",
    "sns.heatmap(fa_result_loading, cmap=\"Blues\", annot=True, fmt='.2f') #소수 둘째자리까지"
   ]
  },
  {
   "cell_type": "code",
   "execution_count": null,
   "metadata": {},
   "outputs": [],
   "source": [
    "fa.get_factor_variance()\n",
    "fa_result_fromLoading = pd.DataFrame(fa.get_factor_variance(), columns = ['Factor1', 'Factor2', 'Factor3','Factor4'])\n",
    "fa_result_fromLoading.index = ['SS Loadings', 'Proportion Var', 'Cumulative Var']\n",
    "fa_result_fromLoading"
   ]
  },
  {
   "cell_type": "markdown",
   "metadata": {},
   "source": [
    "## 2) FA Rotation: Promax"
   ]
  },
  {
   "cell_type": "code",
   "execution_count": null,
   "metadata": {},
   "outputs": [],
   "source": [
    "# factor 4개로 선택\n",
    "fa_p = FactorAnalyzer(n_factors=4, rotation = \"promax\")\n",
    "fa_p.fit(data_scale)"
   ]
  },
  {
   "cell_type": "code",
   "execution_count": null,
   "metadata": {},
   "outputs": [],
   "source": [
    "# FA: Factor Loadings\n",
    "fa_p_result_loading = pd.DataFrame(fa_p.loadings_, \n",
    "                                 columns = ['Factor1', 'Factor2', 'Factor3', 'Factor4'],\n",
    "                                 index=data_scale.columns)\n",
    "fa_p_result_loading"
   ]
  },
  {
   "cell_type": "code",
   "execution_count": null,
   "metadata": {},
   "outputs": [],
   "source": [
    "#Promax로 한 Communality\n",
    "commu_pro = pd.DataFrame(fa_p.get_communalities())\n",
    "commu_pro.columns=['공통성']"
   ]
  },
  {
   "cell_type": "code",
   "execution_count": null,
   "metadata": {},
   "outputs": [],
   "source": [
    "# 시각화\n",
    "plt.figure(figsize=(6,10))\n",
    "sns.heatmap(fa_p_result_loading, cmap=\"Blues\", annot=True, fmt='.2f')"
   ]
  },
  {
   "cell_type": "code",
   "execution_count": null,
   "metadata": {},
   "outputs": [],
   "source": [
    "fa_p.get_factor_variance()\n",
    "fa_p_result_fromLoading = pd.DataFrame(fa_p.get_factor_variance(), columns = ['Factor1', 'Factor2', 'Factor3','Factor4'])\n",
    "fa_p_result_fromLoading.index = ['SS Loadings', 'Proportion Var', 'Cumulative Var']\n",
    "fa_p_result_fromLoading"
   ]
  },
  {
   "cell_type": "markdown",
   "metadata": {},
   "source": [
    "## 3) FA Rotation: Quartimax"
   ]
  },
  {
   "cell_type": "code",
   "execution_count": null,
   "metadata": {},
   "outputs": [],
   "source": [
    "# factor 4개로 선택\n",
    "fa_q = FactorAnalyzer(n_factors=4, rotation = \"quartimax\")\n",
    "fa_q.fit(data_scale)"
   ]
  },
  {
   "cell_type": "code",
   "execution_count": null,
   "metadata": {},
   "outputs": [],
   "source": [
    "# FA: Factor Loadings\n",
    "fa_q_result_loading = pd.DataFrame(fa_q.loadings_, \n",
    "                                 columns = ['Factor1', 'Factor2', 'Factor3', 'Factor4'],\n",
    "                                 index=data_scale.columns)\n",
    "fa_q_result_loading.head()"
   ]
  },
  {
   "cell_type": "code",
   "execution_count": null,
   "metadata": {},
   "outputs": [],
   "source": [
    "#Quartimax로 한 Communality\n",
    "commu_Quarti = pd.DataFrame(fa_q.get_communalities())\n",
    "commu_Quarti.columns=['공통성']"
   ]
  },
  {
   "cell_type": "code",
   "execution_count": null,
   "metadata": {},
   "outputs": [],
   "source": [
    "# 시각화\n",
    "plt.figure(figsize=(6,10))\n",
    "sns.heatmap(fa_q_result_loading, cmap=\"Blues\", annot=True, fmt='.2f')"
   ]
  },
  {
   "cell_type": "code",
   "execution_count": null,
   "metadata": {},
   "outputs": [],
   "source": [
    "fa_q.get_factor_variance()\n",
    "fa_q_result_fromLoading = pd.DataFrame(fa_q.get_factor_variance(), columns = ['Factor1', 'Factor2', 'Factor3','Factor4'])\n",
    "fa_q_result_fromLoading.index = ['SS Loadings', 'Proportion Var', 'Cumulative Var']\n",
    "fa_q_result_fromLoading"
   ]
  },
  {
   "cell_type": "markdown",
   "metadata": {},
   "source": [
    "# FA Rotation: Oblimin"
   ]
  },
  {
   "cell_type": "code",
   "execution_count": null,
   "metadata": {},
   "outputs": [],
   "source": [
    "# factor 4개로 선택\n",
    "fa_o = FactorAnalyzer(n_factors=4, rotation = \"oblimin\")\n",
    "fa_o.fit(data_scale)"
   ]
  },
  {
   "cell_type": "code",
   "execution_count": null,
   "metadata": {},
   "outputs": [],
   "source": [
    "# FA: Factor Loadings\n",
    "fa_o_result_loading = pd.DataFrame(fa_p.loadings_, \n",
    "                                 columns = ['Factor1', 'Factor2', 'Factor3', 'Factor4'],\n",
    "                                 index=data_scale.columns)\n",
    "fa_o_result_loading.head()"
   ]
  },
  {
   "cell_type": "code",
   "execution_count": null,
   "metadata": {},
   "outputs": [],
   "source": [
    "#Oblimin으로 한 Communality\n",
    "commu_Obli = pd.DataFrame(fa_o.get_communalities())\n",
    "commu_Obli.columns=['공통성']"
   ]
  },
  {
   "cell_type": "code",
   "execution_count": null,
   "metadata": {},
   "outputs": [],
   "source": [
    "# 시각화\n",
    "plt.figure(figsize=(6,10))\n",
    "sns.heatmap(fa_o_result_loading, cmap=\"Blues\", annot=True, fmt='.2f')"
   ]
  },
  {
   "cell_type": "code",
   "execution_count": null,
   "metadata": {},
   "outputs": [],
   "source": [
    "fa_o.get_factor_variance()\n",
    "fa_o_result_fromLoading = pd.DataFrame(fa_o.get_factor_variance(), columns = ['Factor1', 'Factor2', 'Factor3','Factor4'])\n",
    "fa_o_result_fromLoading.index = ['SS Loadings', 'Proportion Var', 'Cumulative Var']\n",
    "fa_o_result_fromLoading"
   ]
  },
  {
   "cell_type": "markdown",
   "metadata": {},
   "source": [
    "## >> 네개의 rotation 방식 비교: Cumulative Var가 직교회전 두가지 방식에서는 0.81이 나왔는데, 사각회전에서는 더 낮게 나왔으므로 직교회전 rotation을 진행. 그 중에 Quartimax가 제1요인에 과대해석 되어있으므로 다요인분석에 용이한 Varimax를 선택하여 분석을 진행하였다. \n",
    "\n",
    "https://m.blog.naver.com/shoutjoy/221802826087"
   ]
  },
  {
   "cell_type": "markdown",
   "metadata": {},
   "source": [
    "## Factor 1: Affection (배우자에 대한 애정 및 관심도)\n",
    "## Factor 2: Aggression (논쟁 시 배우자에 대한 공격성)\n",
    "## Factor 3: Silence (논쟁 시 말을 많이 하는지)\n",
    "## Factor 4: Home-Distance (집 내에서 친밀도)"
   ]
  },
  {
   "cell_type": "code",
   "execution_count": null,
   "metadata": {},
   "outputs": [],
   "source": [
    "X_f = fa.fit_transform(data_scale)\n",
    "X_ff = pd.DataFrame(X_f[:,:4], \n",
    "                    columns = ['Affection','Aggression','Silence','Home-Distance'], \n",
    "                    index = data_scale.index)\n",
    "X_ff"
   ]
  },
  {
   "cell_type": "markdown",
   "metadata": {},
   "source": [
    "## FA Score Plot 분석"
   ]
  },
  {
   "cell_type": "code",
   "execution_count": null,
   "metadata": {},
   "outputs": [],
   "source": [
    "# Score plot F1xF2\n",
    "sns.scatterplot(data=X_ff, x='Affection',y='Aggression',hue=X_ff.index)"
   ]
  },
  {
   "cell_type": "code",
   "execution_count": null,
   "metadata": {},
   "outputs": [],
   "source": [
    "# Score plot F1xF3\n",
    "sns.scatterplot(data=X_ff, x='Affection',y='Silence',hue=X_ff.index)"
   ]
  },
  {
   "cell_type": "code",
   "execution_count": null,
   "metadata": {},
   "outputs": [],
   "source": [
    "# Score plot F1xF4\n",
    "sns.scatterplot(data=X_ff, x='Affection',y='Home-Distance',hue=X_ff.index)"
   ]
  },
  {
   "cell_type": "code",
   "execution_count": null,
   "metadata": {},
   "outputs": [],
   "source": [
    "# Score plot F2xF4\n",
    "sns.scatterplot(data=X_ff, x='Aggression',y='Home-Distance',hue=X_ff.index)"
   ]
  },
  {
   "cell_type": "code",
   "execution_count": null,
   "metadata": {},
   "outputs": [],
   "source": [
    "# Score plot F2xF3\n",
    "sns.scatterplot(data=X_ff, x='Aggression',y='Silence',hue=X_ff.index)"
   ]
  },
  {
   "cell_type": "code",
   "execution_count": null,
   "metadata": {},
   "outputs": [],
   "source": [
    "# Score plot F3xF4\n",
    "sns.scatterplot(data=X_ff, x='Silence',y='Home-Distance',hue=X_ff.index)"
   ]
  },
  {
   "cell_type": "code",
   "execution_count": null,
   "metadata": {},
   "outputs": [],
   "source": [
    "X_aff = X_ff[['Affection']]\n",
    "X_agg = X_ff[['Aggression']]\n",
    "X_si = X_ff[['Silence']]\n",
    "X_home = X_ff[['Home-Distance']]"
   ]
  },
  {
   "cell_type": "code",
   "execution_count": null,
   "metadata": {},
   "outputs": [],
   "source": [
    "X_aff.groupby('Divorce').describe()"
   ]
  },
  {
   "cell_type": "code",
   "execution_count": null,
   "metadata": {},
   "outputs": [],
   "source": [
    "X_agg.groupby('Divorce').describe()"
   ]
  },
  {
   "cell_type": "code",
   "execution_count": null,
   "metadata": {},
   "outputs": [],
   "source": [
    "X_si.groupby('Divorce').describe()"
   ]
  },
  {
   "cell_type": "code",
   "execution_count": null,
   "metadata": {},
   "outputs": [],
   "source": [
    "X_home.groupby('Divorce').describe()"
   ]
  },
  {
   "cell_type": "code",
   "execution_count": null,
   "metadata": {},
   "outputs": [],
   "source": []
  },
  {
   "cell_type": "code",
   "execution_count": null,
   "metadata": {},
   "outputs": [],
   "source": []
  },
  {
   "cell_type": "code",
   "execution_count": null,
   "metadata": {},
   "outputs": [],
   "source": []
  },
  {
   "cell_type": "code",
   "execution_count": null,
   "metadata": {},
   "outputs": [],
   "source": []
  },
  {
   "cell_type": "code",
   "execution_count": null,
   "metadata": {},
   "outputs": [],
   "source": []
  }
 ],
 "metadata": {
  "hide_input": false,
  "kernelspec": {
   "display_name": "Python 3",
   "language": "python",
   "name": "python3"
  },
  "language_info": {
   "codemirror_mode": {
    "name": "ipython",
    "version": 3
   },
   "file_extension": ".py",
   "mimetype": "text/x-python",
   "name": "python",
   "nbconvert_exporter": "python",
   "pygments_lexer": "ipython3",
   "version": "3.8.5"
  }
 },
 "nbformat": 4,
 "nbformat_minor": 4
}
